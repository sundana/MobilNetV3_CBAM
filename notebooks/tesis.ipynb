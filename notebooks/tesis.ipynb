version https://git-lfs.github.com/spec/v1
oid sha256:2f322102172ce9842dd9f25729df7e67b0dab18dfe8d51c2c515498751f8b4b6
size 2398708
